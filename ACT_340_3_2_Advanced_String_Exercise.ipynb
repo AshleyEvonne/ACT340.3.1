{
  "nbformat": 4,
  "nbformat_minor": 0,
  "metadata": {
    "colab": {
      "provenance": [],
      "include_colab_link": true
    },
    "kernelspec": {
      "name": "python3",
      "display_name": "Python 3"
    },
    "language_info": {
      "name": "python"
    }
  },
  "cells": [
    {
      "cell_type": "markdown",
      "metadata": {
        "id": "view-in-github",
        "colab_type": "text"
      },
      "source": [
        "<a href=\"https://colab.research.google.com/github/AshleyEvonne/ACT340.3.1/blob/main/ACT_340_3_2_Advanced_String_Exercise.ipynb\" target=\"_parent\"><img src=\"https://colab.research.google.com/assets/colab-badge.svg\" alt=\"Open In Colab\"/></a>"
      ]
    },
    {
      "cell_type": "markdown",
      "source": [
        "# String Excercises- Advanced\n",
        "\n",
        "Complete the following practice excercises below to build up your skills with manipulating strings."
      ],
      "metadata": {
        "id": "cUylAN2Ilryc"
      }
    },
    {
      "cell_type": "markdown",
      "source": [
        "**Problem 1**\n",
        "\n",
        "Create a new string with the following sentence:\n",
        "\n",
        "“You learn more from failure than from success.\"\n",
        "<br></br>\n",
        "* Use the 1st, 4th, and last charachter to create a new string."
      ],
      "metadata": {
        "id": "27IbcjVcl6Bh"
      }
    },
    {
      "cell_type": "code",
      "source": [
        "new_string = \"You learn more from failure than from success.\"\n",
        "\n",
        "first = new_string[0]\n",
        "fourth = new_string[3]\n",
        "last = new_string[-1]\n",
        "\n",
        "new_new = first + fourth + last\n",
        "\n",
        "print(new_new)"
      ],
      "metadata": {
        "id": "Swq_joOAmZB2",
        "outputId": "8803cbb3-6ab3-4011-b4cb-5f421ad80c1b",
        "colab": {
          "base_uri": "https://localhost:8080/"
        }
      },
      "execution_count": 4,
      "outputs": [
        {
          "output_type": "stream",
          "name": "stdout",
          "text": [
            "Y .\n"
          ]
        }
      ]
    },
    {
      "cell_type": "markdown",
      "source": [
        "**Problem 2**\n",
        "\n",
        "* Use the same string variable from above\n",
        "* Use the replace() method to replace the \".\" with an \"!\""
      ],
      "metadata": {
        "id": "mGPUZkRTmoqN"
      }
    },
    {
      "cell_type": "code",
      "source": [
        "new_new = new_string.replace(\".\", \"!\")\n",
        "\n",
        "print(new_new)"
      ],
      "metadata": {
        "id": "Seg9HXsFnHn-",
        "outputId": "e373487f-6b75-492c-bdeb-563206bc8c37",
        "colab": {
          "base_uri": "https://localhost:8080/"
        }
      },
      "execution_count": 6,
      "outputs": [
        {
          "output_type": "stream",
          "name": "stdout",
          "text": [
            "You learn more from failure than from success!\n"
          ]
        }
      ]
    },
    {
      "cell_type": "markdown",
      "source": [
        "**Problem 3**\n",
        "\n",
        "*   Use the string variable below and create a new variable that has all of the charachters from the original string as lowercase charachters\n",
        "\n",
        "\n"
      ],
      "metadata": {
        "id": "ZdxYpOtrnIz8"
      }
    },
    {
      "cell_type": "code",
      "source": [
        "new_str= \"“WHEN YOU Change your thougHts, remember to ALSO change your world.”\"\n",
        "\n",
        "lower_str = new_str.lower()\n",
        "\n",
        "print(lower_str)"
      ],
      "metadata": {
        "id": "fciZlwkwnjNb",
        "outputId": "f956933e-462a-493e-9fdc-babc1d8b879b",
        "colab": {
          "base_uri": "https://localhost:8080/"
        }
      },
      "execution_count": 7,
      "outputs": [
        {
          "output_type": "stream",
          "name": "stdout",
          "text": [
            "“when you change your thoughts, remember to also change your world.”\n"
          ]
        }
      ]
    },
    {
      "cell_type": "markdown",
      "source": [
        "**Problem 4**\n",
        "\n",
        "\n",
        "*   Take the new_str variable from above and make all of charachters uppercase\n",
        "\n",
        "\n"
      ],
      "metadata": {
        "id": "cip5r4CRn3G4"
      }
    },
    {
      "cell_type": "code",
      "source": [
        "upper_str = new_str.upper()\n",
        "\n",
        "print(upper_str)"
      ],
      "metadata": {
        "id": "nFnFU3-ooHvA",
        "outputId": "67ea719e-8c3c-4677-abe4-09ef5a60c965",
        "colab": {
          "base_uri": "https://localhost:8080/"
        }
      },
      "execution_count": 8,
      "outputs": [
        {
          "output_type": "stream",
          "name": "stdout",
          "text": [
            "“WHEN YOU CHANGE YOUR THOUGHTS, REMEMBER TO ALSO CHANGE YOUR WORLD.”\n"
          ]
        }
      ]
    },
    {
      "cell_type": "markdown",
      "source": [
        "**Problem 5**\n",
        "\n",
        "* Use the string variable below and the startswith() method to check and see if the string starts with the charachter \"Z\".\n",
        "* Check if it starts with the charachter \"t\"\n"
      ],
      "metadata": {
        "id": "HzCVplcwoPxU"
      }
    },
    {
      "cell_type": "code",
      "source": [
        "new_str= \"There are no traffic jams along the extra mile.\"\n",
        "\n",
        "starts_with_z = new_str.startswith(\"Z\")\n",
        "starts_with_t = new_str.startswith(\"t\")\n",
        "\n",
        "print(starts_with_z)\n",
        "print(starts_with_t)"
      ],
      "metadata": {
        "id": "1TAzCILcovZk",
        "outputId": "5a13898f-bf11-4e6c-cc0a-3135cd43c910",
        "colab": {
          "base_uri": "https://localhost:8080/"
        }
      },
      "execution_count": 10,
      "outputs": [
        {
          "output_type": "stream",
          "name": "stdout",
          "text": [
            "False\n",
            "False\n"
          ]
        }
      ]
    },
    {
      "cell_type": "markdown",
      "source": [
        "**Problem 6**\n",
        "\n",
        "\n",
        "\n",
        "*   Use the same new_str variable and the index() method to identify the index of charachter \"j\"\n",
        "\n",
        "\n"
      ],
      "metadata": {
        "id": "U5iHAc6MoubS"
      }
    },
    {
      "cell_type": "code",
      "source": [
        "index_j = new_str.index(\"j\")\n",
        "\n",
        "print(index_j)"
      ],
      "metadata": {
        "id": "w3MhXXFxpTil",
        "outputId": "43c51690-a3dc-49c3-e223-436c89e46b2c",
        "colab": {
          "base_uri": "https://localhost:8080/"
        }
      },
      "execution_count": 11,
      "outputs": [
        {
          "output_type": "stream",
          "name": "stdout",
          "text": [
            "21\n"
          ]
        }
      ]
    },
    {
      "cell_type": "markdown",
      "source": [
        "**Problem 7**\n",
        "\n",
        "*   Use the same new_str variable\n",
        "*   Use the count() method to find the number of times \"t\" and \"o\" appear in a string\n",
        "* Create a print statement that has both results in one statement. You can use string concatenation, fstring, or any other way you can think of!\n",
        "\n"
      ],
      "metadata": {
        "id": "63odwi1_pU-h"
      }
    },
    {
      "cell_type": "code",
      "source": [
        "a = new_str.count(\"t\")\n",
        "b = new_str.count(\"o\")\n",
        "print(\"The letter 't' appears {} times and the letter 'o' appears {} times.\".format(a,b))\n",
        "\n",
        "print(f\"The letter 't' appears {a} times and the letter 'o' appears {b} times.\")"
      ],
      "metadata": {
        "id": "2okBBd33p6O-",
        "colab": {
          "base_uri": "https://localhost:8080/"
        },
        "outputId": "a3ddab78-283a-4efe-ae38-c79632f1a829"
      },
      "execution_count": 13,
      "outputs": [
        {
          "output_type": "stream",
          "name": "stdout",
          "text": [
            "The letter 't' appears 3 times and the letter 'o' appears 2 times.\n",
            "The letter 't' appears 3 times and the letter 'o' appears 2 times.\n"
          ]
        }
      ]
    },
    {
      "cell_type": "markdown",
      "source": [
        "**Problem 8**\n",
        "\n",
        "* Using the string below, find the length of the given string."
      ],
      "metadata": {
        "id": "u1UpWwGjp_qu"
      }
    },
    {
      "cell_type": "code",
      "source": [
        "greeting= \"Good Morning!\"\n",
        "\n",
        "len(greeting)"
      ],
      "metadata": {
        "id": "SAErNiQXqNiq",
        "outputId": "7f5dfb75-75b6-40b1-8ce5-4f9a51192e6b",
        "colab": {
          "base_uri": "https://localhost:8080/"
        }
      },
      "execution_count": 16,
      "outputs": [
        {
          "output_type": "execute_result",
          "data": {
            "text/plain": [
              "13"
            ]
          },
          "metadata": {},
          "execution_count": 16
        }
      ]
    },
    {
      "cell_type": "markdown",
      "source": [
        "**Problem 9**\n",
        "\n",
        "\n",
        "\n",
        "*   Use the string below, and documentation on string methods to find if all the charachters in a string are alpha charachters.\n",
        "\n"
      ],
      "metadata": {
        "id": "PlVi5hw8q6ha"
      }
    },
    {
      "cell_type": "code",
      "source": [
        "alphabet= \"abcdefghijklmnopqrstuvwxyz\"\n",
        "alphabet.isalpha()"
      ],
      "metadata": {
        "id": "jBsKOU-drQdV",
        "outputId": "3e239f14-1aef-47df-ee97-adc4a989771f",
        "colab": {
          "base_uri": "https://localhost:8080/"
        }
      },
      "execution_count": 30,
      "outputs": [
        {
          "output_type": "execute_result",
          "data": {
            "text/plain": [
              "True"
            ]
          },
          "metadata": {},
          "execution_count": 30
        }
      ]
    },
    {
      "cell_type": "markdown",
      "source": [
        "**Problem 10**\n",
        "\n",
        "Use the string below to complete the following:\n",
        "\n",
        "\n",
        "*   Use the find() method for the value \"y\"\n",
        "*   Use the index() method for the value \"y\"\n",
        "*  Create a comment explaining the difference between the two methods\n",
        "\n",
        "\n",
        "\n"
      ],
      "metadata": {
        "id": "34l2TSFMrYvv"
      }
    },
    {
      "cell_type": "code",
      "source": [
        "learning= \"Learning is fun!\"\n",
        "\n",
        "learning.find(\"y\")\n",
        "\n",
        ""
      ],
      "metadata": {
        "id": "8ki6bRY-sHBf",
        "outputId": "81b90080-5ea1-47fe-f666-66631cbad2e2",
        "colab": {
          "base_uri": "https://localhost:8080/"
        }
      },
      "execution_count": 37,
      "outputs": [
        {
          "output_type": "execute_result",
          "data": {
            "text/plain": [
              "-1"
            ]
          },
          "metadata": {},
          "execution_count": 37
        }
      ]
    },
    {
      "cell_type": "markdown",
      "source": [
        "# Problem 11\n",
        "\n",
        "Use the string below to count the number of times each charachter appears in a string."
      ],
      "metadata": {
        "id": "QtYuT-iB_ihF"
      }
    },
    {
      "cell_type": "code",
      "source": [
        "from collections import Counter\n",
        "count_string= \"Twinkle twinkle little star, how I wonder what you are\"\n",
        "\n",
        "char_count = Counter(count_string)\n",
        "\n",
        "# for char, count in char_count.items():\n",
        "#   print(f\"'{char}': '{count}'\")"
      ],
      "metadata": {
        "id": "_HCSppKL_1E_"
      },
      "execution_count": 50,
      "outputs": []
    }
  ]
}